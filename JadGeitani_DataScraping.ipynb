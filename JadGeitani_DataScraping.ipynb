{
  "nbformat": 4,
  "nbformat_minor": 0,
  "metadata": {
    "colab": {
      "provenance": []
    },
    "kernelspec": {
      "name": "python3",
      "display_name": "Python 3"
    },
    "language_info": {
      "name": "python"
    }
  },
  "cells": [
    {
      "cell_type": "markdown",
      "source": [
        "# AAI614: Data Science & its Applications\n",
        "\n",
        "*Data Scraping*\n",
        "\n",
        "<a href=\"https://colab.research.google.com/github/jadgeitani/AAI614_Geitani/blob/week3/JadGeitani_DataScraping.ipynb\" target=\"_parent\"><img src=\"https://colab.research.google.com/assets/colab-badge.svg\" alt=\"Open In Colab\"/></a>"
      ],
      "metadata": {
        "id": "O5mWsuE40bXg"
      }
    },
    {
      "cell_type": "code",
      "execution_count": null,
      "metadata": {
        "id": "6CsGQ7LikEmv"
      },
      "outputs": [],
      "source": [
        "import requests\n",
        "from bs4 import BeautifulSoup\n",
        "import pandas as pd"
      ]
    },
    {
      "cell_type": "code",
      "source": [
        "url = \"https://www.canada.ca/en/public-health/services/surveillance/respiratory-virus-detections-canada/2018-2019/respiratory-virus-detections-isolations-week-01-ending-january-5-2019.html\"\n",
        "\n",
        "# Send a GET request to fetch the raw HTML content\n",
        "response = requests.get(url)\n",
        "response.raise_for_status()  # Check that the request was successful"
      ],
      "metadata": {
        "id": "UFA6zjS8kfLh"
      },
      "execution_count": null,
      "outputs": []
    },
    {
      "cell_type": "code",
      "source": [
        "soup = BeautifulSoup(response.content, \"html.parser\")\n",
        "\n",
        "# Find the specific table (Table 2) by identifying it in the HTML structure\n",
        "tables = soup.find_all(\"table\")\n",
        "if len(tables) > 1:\n",
        "    table = tables[1]  # Select the second table\n",
        "    print(\"Found Table 2.\")\n",
        "else:\n",
        "    print(\"Table 2 not found.\")"
      ],
      "metadata": {
        "colab": {
          "base_uri": "https://localhost:8080/"
        },
        "id": "9dBxBKupkjMk",
        "outputId": "3263527f-7bdd-482b-d464-36c7b5c88455"
      },
      "execution_count": null,
      "outputs": [
        {
          "output_type": "stream",
          "name": "stdout",
          "text": [
            "Found Table 2.\n"
          ]
        }
      ]
    },
    {
      "cell_type": "code",
      "source": [
        "# Specify the target rows\n",
        "target_provinces = [\"Atlantic\", \"Province of Quebec\", \"Province of Ontario\", \"Prairies\", \"British Columbia\", \"Territories\", \"CANADA\"]\n",
        "\n",
        "headers = [header.text.strip() for header in table.find_all(\"th\")]\n",
        "\n",
        "rows = []\n",
        "for row in table.find_all(\"tr\")[1:]:\n",
        "    cells = row.find_all(\"td\")\n",
        "    row_data = [cell.text.strip() for cell in cells]\n",
        "    if row_data and row_data[0] in target_provinces:\n",
        "        rows.append(row_data)\n",
        "\n",
        "print(\"Filtered rows:\", rows)\n"
      ],
      "metadata": {
        "colab": {
          "base_uri": "https://localhost:8080/"
        },
        "id": "Bs4_GUcXkn9b",
        "outputId": "b10f595a-4e7f-4783-9e1d-60ca97d40152"
      },
      "execution_count": null,
      "outputs": [
        {
          "output_type": "stream",
          "name": "stdout",
          "text": [
            "Filtered rows: [['Atlantic', '6741', '81', '1', '880', '962', '4', '6747', '272', '2859', '0', '25', '48', '33', '0', '2854', '101', '2854', '18', '2854', '475', '1555', '7'], ['Province of Ontario', '23795', '752', '180', '546', '1478', '42', '23518', '1123', '13600', '32', '146', '77', '38', '0', '13348', '117', '13307', '101', '3652', '683', '3080', '117'], ['Prairies', '32126', '4604', '136', '2775', '7515', '35', '28259', '261', '27618', '18', '196', '249', '204', '0', '25685', '315', '24645', '245', '25685', '4340', '24679', '363'], ['Territories', '611', '162', '3', '6', '171', '0', '587', '2', '465', '0', '0', '12', '1', '0', '465', '17', '464', '2', '465', '92', '464', '4'], ['CANADA', '110399', '6609', '395', '10936', '17941', '172', '103597', '4753', '60085', '95', '571', '513', '378', '0', '57982', '979', '56398', '443', '36098', '6572', '43923', '855']]\n"
          ]
        }
      ]
    },
    {
      "cell_type": "code",
      "source": [
        "df = pd.DataFrame(rows, columns=headers)\n",
        "\n",
        "print(df)"
      ],
      "metadata": {
        "colab": {
          "base_uri": "https://localhost:8080/"
        },
        "id": "2MnUbg1ykrMm",
        "outputId": "467f90b5-9d13-4afc-9fa4-97ef0e63a21a"
      },
      "execution_count": null,
      "outputs": [
        {
          "output_type": "stream",
          "name": "stdout",
          "text": [
            "  Reporting Laboratory Flu Tested A(H1N1)pdm09 Positive A(H3) Positive  \\\n",
            "0             Atlantic       6741                    81              1   \n",
            "1  Province of Ontario      23795                   752            180   \n",
            "2             Prairies      32126                  4604            136   \n",
            "3          Territories        611                   162              3   \n",
            "4               CANADA     110399                  6609            395   \n",
            "\n",
            "  A(UnS) Positive Total Flu A Positive Total Flu B Positive RSV Tested  \\\n",
            "0             880                  962                    4       6747   \n",
            "1             546                 1478                   42      23518   \n",
            "2            2775                 7515                   35      28259   \n",
            "3               6                  171                    0        587   \n",
            "4           10936                17941                  172     103597   \n",
            "\n",
            "  RSV Positive PIV Tested  ... PIV 4 Positive Other PIV Positive Adeno Tested  \\\n",
            "0          272       2859  ...             33                  0         2854   \n",
            "1         1123      13600  ...             38                  0        13348   \n",
            "2          261      27618  ...            204                  0        25685   \n",
            "3            2        465  ...              1                  0          465   \n",
            "4         4753      60085  ...            378                  0        57982   \n",
            "\n",
            "  Adeno Positive hMPV Tested hMPV Positive Entero/Rhino Tested  \\\n",
            "0            101        2854            18                2854   \n",
            "1            117       13307           101                3652   \n",
            "2            315       24645           245               25685   \n",
            "3             17         464             2                 465   \n",
            "4            979       56398           443               36098   \n",
            "\n",
            "  Entero/Rhino Positive Coron Tested Coron Positive  \n",
            "0                   475         1555              7  \n",
            "1                   683         3080            117  \n",
            "2                  4340        24679            363  \n",
            "3                    92          464              4  \n",
            "4                  6572        43923            855  \n",
            "\n",
            "[5 rows x 23 columns]\n"
          ]
        }
      ]
    }
  ]
}