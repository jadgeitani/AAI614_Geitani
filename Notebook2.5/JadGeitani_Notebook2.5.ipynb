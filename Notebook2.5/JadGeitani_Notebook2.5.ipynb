{
 "cells": [
  {
   "cell_type": "markdown",
   "metadata": {},
   "source": [
    "# AAI614: Data Science & its Applications\n",
    "\n",
    "*Notebook 2.5: Practice with Parquet and File Types*\n",
    "\n",
    "<a href=\"https://colab.research.google.com/github/jadgeitani/AAI614_Geitani/blob/week2/JadGeitani_Notebook2.5.ipynb\" target=\"_parent\"><img src=\"https://colab.research.google.com/assets/colab-badge.svg\" alt=\"Open In Colab\"/></a>"
   ]
  },
  {
   "cell_type": "code",
   "execution_count": 4,
   "metadata": {},
   "outputs": [
    {
     "name": "stdout",
     "output_type": "stream",
     "text": [
      "Collecting pyarrow\n",
      "  Downloading pyarrow-18.0.0-cp312-cp312-win_amd64.whl.metadata (3.4 kB)\n",
      "Downloading pyarrow-18.0.0-cp312-cp312-win_amd64.whl (25.1 MB)\n",
      "   ---------------------------------------- 0.0/25.1 MB ? eta -:--:--\n",
      "   ---------------------------------------- 0.3/25.1 MB ? eta -:--:--\n",
      "   - -------------------------------------- 0.8/25.1 MB 2.8 MB/s eta 0:00:09\n",
      "   -- ------------------------------------- 1.3/25.1 MB 2.7 MB/s eta 0:00:09\n",
      "   -- ------------------------------------- 1.8/25.1 MB 2.6 MB/s eta 0:00:09\n",
      "   ---- ----------------------------------- 2.6/25.1 MB 2.7 MB/s eta 0:00:09\n",
      "   ----- ---------------------------------- 3.1/25.1 MB 2.6 MB/s eta 0:00:09\n",
      "   ----- ---------------------------------- 3.7/25.1 MB 2.6 MB/s eta 0:00:09\n",
      "   ------ --------------------------------- 4.2/25.1 MB 2.6 MB/s eta 0:00:08\n",
      "   ------- -------------------------------- 4.7/25.1 MB 2.6 MB/s eta 0:00:08\n",
      "   -------- ------------------------------- 5.5/25.1 MB 2.6 MB/s eta 0:00:08\n",
      "   --------- ------------------------------ 6.0/25.1 MB 2.7 MB/s eta 0:00:08\n",
      "   ---------- ----------------------------- 6.6/25.1 MB 2.7 MB/s eta 0:00:07\n",
      "   ----------- ---------------------------- 7.1/25.1 MB 2.7 MB/s eta 0:00:07\n",
      "   ------------ --------------------------- 7.9/25.1 MB 2.7 MB/s eta 0:00:07\n",
      "   ------------- -------------------------- 8.4/25.1 MB 2.6 MB/s eta 0:00:07\n",
      "   ------------- -------------------------- 8.7/25.1 MB 2.6 MB/s eta 0:00:07\n",
      "   -------------- ------------------------- 9.2/25.1 MB 2.6 MB/s eta 0:00:07\n",
      "   --------------- ------------------------ 9.7/25.1 MB 2.6 MB/s eta 0:00:06\n",
      "   ---------------- ----------------------- 10.2/25.1 MB 2.6 MB/s eta 0:00:06\n",
      "   ----------------- ---------------------- 10.7/25.1 MB 2.6 MB/s eta 0:00:06\n",
      "   ----------------- ---------------------- 11.3/25.1 MB 2.6 MB/s eta 0:00:06\n",
      "   ------------------ --------------------- 11.8/25.1 MB 2.6 MB/s eta 0:00:06\n",
      "   ------------------- -------------------- 12.3/25.1 MB 2.5 MB/s eta 0:00:06\n",
      "   -------------------- ------------------- 12.8/25.1 MB 2.5 MB/s eta 0:00:05\n",
      "   --------------------- ------------------ 13.6/25.1 MB 2.6 MB/s eta 0:00:05\n",
      "   ---------------------- ----------------- 14.2/25.1 MB 2.6 MB/s eta 0:00:05\n",
      "   ----------------------- ---------------- 14.7/25.1 MB 2.6 MB/s eta 0:00:05\n",
      "   ------------------------ --------------- 15.2/25.1 MB 2.6 MB/s eta 0:00:04\n",
      "   ------------------------- -------------- 15.7/25.1 MB 2.5 MB/s eta 0:00:04\n",
      "   ------------------------- -------------- 16.3/25.1 MB 2.5 MB/s eta 0:00:04\n",
      "   -------------------------- ------------- 16.8/25.1 MB 2.5 MB/s eta 0:00:04\n",
      "   --------------------------- ------------ 17.3/25.1 MB 2.6 MB/s eta 0:00:04\n",
      "   ---------------------------- ----------- 18.1/25.1 MB 2.6 MB/s eta 0:00:03\n",
      "   ----------------------------- ---------- 18.6/25.1 MB 2.6 MB/s eta 0:00:03\n",
      "   ------------------------------ --------- 19.1/25.1 MB 2.6 MB/s eta 0:00:03\n",
      "   ------------------------------- -------- 19.7/25.1 MB 2.6 MB/s eta 0:00:03\n",
      "   -------------------------------- ------- 20.2/25.1 MB 2.6 MB/s eta 0:00:02\n",
      "   --------------------------------- ------ 21.0/25.1 MB 2.6 MB/s eta 0:00:02\n",
      "   ---------------------------------- ----- 21.5/25.1 MB 2.6 MB/s eta 0:00:02\n",
      "   ----------------------------------- ---- 22.0/25.1 MB 2.6 MB/s eta 0:00:02\n",
      "   ----------------------------------- ---- 22.5/25.1 MB 2.6 MB/s eta 0:00:01\n",
      "   ------------------------------------ --- 23.1/25.1 MB 2.6 MB/s eta 0:00:01\n",
      "   -------------------------------------- - 23.9/25.1 MB 2.6 MB/s eta 0:00:01\n",
      "   -------------------------------------- - 24.4/25.1 MB 2.6 MB/s eta 0:00:01\n",
      "   ---------------------------------------  24.9/25.1 MB 2.6 MB/s eta 0:00:01\n",
      "   ---------------------------------------  24.9/25.1 MB 2.6 MB/s eta 0:00:01\n",
      "   ---------------------------------------- 25.1/25.1 MB 2.5 MB/s eta 0:00:00\n",
      "Installing collected packages: pyarrow\n",
      "Successfully installed pyarrow-18.0.0\n",
      "Note: you may need to restart the kernel to use updated packages.\n"
     ]
    },
    {
     "name": "stderr",
     "output_type": "stream",
     "text": [
      "\n",
      "[notice] A new release of pip is available: 24.2 -> 24.3.1\n",
      "[notice] To update, run: python.exe -m pip install --upgrade pip\n"
     ]
    }
   ],
   "source": [
    "pip install pyarrow"
   ]
  },
  {
   "cell_type": "code",
   "execution_count": 5,
   "metadata": {},
   "outputs": [],
   "source": [
    "import pandas as pd\n",
    "import time\n",
    "import ssl\n",
    "\n",
    "ssl._create_default_https_context = ssl._create_unverified_context"
   ]
  },
  {
   "cell_type": "code",
   "execution_count": 6,
   "metadata": {},
   "outputs": [],
   "source": [
    "class Timer:\n",
    "    def __enter__(self):\n",
    "        self.start = time.perf_counter()\n",
    "        return self\n",
    "\n",
    "    def __exit__(self, *args):\n",
    "        self.end = time.perf_counter()\n",
    "        self.interval = self.end - self.start"
   ]
  },
  {
   "cell_type": "markdown",
   "metadata": {},
   "source": [
    "##### Read the Parqeut file and time it"
   ]
  },
  {
   "cell_type": "code",
   "execution_count": 7,
   "metadata": {},
   "outputs": [
    {
     "name": "stdout",
     "output_type": "stream",
     "text": [
      "1.0043071000109194\n"
     ]
    }
   ],
   "source": [
    "with Timer() as t_pd:\n",
    "    df = pd.read_parquet('https://raw.githubusercontent.com/harmanani/AAI614/main/Week%202/niaaa-report.parquet')\n",
    "print(t_pd.interval)"
   ]
  },
  {
   "cell_type": "markdown",
   "metadata": {},
   "source": [
    "#### Read the CSV file and time it"
   ]
  },
  {
   "cell_type": "code",
   "execution_count": 8,
   "metadata": {},
   "outputs": [
    {
     "name": "stdout",
     "output_type": "stream",
     "text": [
      "0.4651744000002509\n"
     ]
    }
   ],
   "source": [
    "with Timer() as t_pd:\n",
    "    df = pd.read_csv('https://raw.githubusercontent.com/harmanani/AAI614/main/Week%202/niaaa-report.csv')\n",
    "print(t_pd.interval)"
   ]
  },
  {
   "cell_type": "markdown",
   "metadata": {},
   "source": [
    "#### Read the ZIP file and time it"
   ]
  },
  {
   "cell_type": "code",
   "execution_count": 9,
   "metadata": {},
   "outputs": [
    {
     "name": "stdout",
     "output_type": "stream",
     "text": [
      "0.40072370000416413\n"
     ]
    }
   ],
   "source": [
    "import zipfile\n",
    "with Timer() as t_pd:\n",
    "    df = pd.read_csv('https://raw.githubusercontent.com/harmanani/AAI614/main/Week%202/niaaa-report.zip', compression=\"zip\")\n",
    "print(t_pd.interval)"
   ]
  },
  {
   "cell_type": "markdown",
   "metadata": {},
   "source": []
  },
  {
   "cell_type": "code",
   "execution_count": 10,
   "metadata": {},
   "outputs": [
    {
     "name": "stdout",
     "output_type": "stream",
     "text": [
      "0.2625097999989521\n"
     ]
    }
   ],
   "source": [
    "with Timer() as t_pd:\n",
    "    df = pd.read_parquet('https://raw.githubusercontent.com/harmanani/AAI614/main/Week%202/niaaa-report.parquet')\n",
    "    df.to_csv('niaaa-report.csv')\n",
    "print(t_pd.interval)"
   ]
  },
  {
   "cell_type": "code",
   "execution_count": 11,
   "metadata": {},
   "outputs": [
    {
     "name": "stdout",
     "output_type": "stream",
     "text": [
      "0.33001710000098683\n"
     ]
    }
   ],
   "source": [
    "with Timer() as t_pd:\n",
    "    df = pd.read_csv('https://raw.githubusercontent.com/harmanani/AAI614/main/Week%202/niaaa-report.csv')\n",
    "    df.to_csv('niaaa-report.zip', compression='zip',index=False)\n",
    "print(t_pd.interval)"
   ]
  },
  {
   "cell_type": "code",
   "execution_count": 13,
   "metadata": {},
   "outputs": [
    {
     "name": "stdout",
     "output_type": "stream",
     "text": [
      "0.3944655000086641\n"
     ]
    }
   ],
   "source": [
    "with Timer() as t_pd:\n",
    "    df = pd.read_csv('https://raw.githubusercontent.com/harmanani/AAI614/main/Week%202/niaaa-report.csv')\n",
    "    df.to_parquet('niaaa-report.parquet')\n",
    "print(t_pd.interval)"
   ]
  },
  {
   "cell_type": "code",
   "execution_count": null,
   "metadata": {},
   "outputs": [],
   "source": []
  }
 ],
 "metadata": {
  "kernelspec": {
   "display_name": "Python 3 (ipykernel)",
   "language": "python",
   "name": "python3"
  },
  "language_info": {
   "codemirror_mode": {
    "name": "ipython",
    "version": 3
   },
   "file_extension": ".py",
   "mimetype": "text/x-python",
   "name": "python",
   "nbconvert_exporter": "python",
   "pygments_lexer": "ipython3",
   "version": "3.12.5"
  }
 },
 "nbformat": 4,
 "nbformat_minor": 4
}
