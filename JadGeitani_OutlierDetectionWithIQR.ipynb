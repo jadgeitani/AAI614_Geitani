{
  "nbformat": 4,
  "nbformat_minor": 0,
  "metadata": {
    "colab": {
      "provenance": []
    },
    "kernelspec": {
      "name": "python3",
      "display_name": "Python 3"
    },
    "language_info": {
      "name": "python"
    }
  },
  "cells": [
    {
      "cell_type": "markdown",
      "source": [
        "# AAI614: Data Science & its Applications\n",
        "\n",
        "*Jad Geitani Notebook : Outlier Detection With IQR*\n",
        "\n",
        "<a href=\"https://colab.research.google.com/github/jadgeitani/AAI614_Geitani/blob/week3/JadGeitani_OutlierDetectionWithIQR.ipynb\" target=\"_parent\"><img src=\"https://colab.research.google.com/assets/colab-badge.svg\" alt=\"Open In Colab\"/></a>\n",
        "\n"
      ],
      "metadata": {
        "id": "RgNKSfhNlfbu"
      }
    },
    {
      "cell_type": "code",
      "execution_count": 4,
      "metadata": {
        "colab": {
          "base_uri": "https://localhost:8080/"
        },
        "id": "35dOm-ImhRrF",
        "outputId": "4bc873aa-e176-4f0d-ba43-cd647cf20692"
      },
      "outputs": [
        {
          "output_type": "stream",
          "name": "stdout",
          "text": [
            "Q1:  9.25\n",
            "Q3:  40.75\n",
            "IQR:  31.5\n",
            "Lower Bound:  -38.0\n",
            "Upper Bound:  88.0\n",
            "\n",
            " Outliers:     values\n",
            "12     122\n",
            "15     231\n",
            "17     173\n",
            "Non Outliers:     values\n",
            "0       10\n",
            "1       18\n",
            "2       11\n",
            "3        7\n",
            "4        4\n",
            "5       19\n",
            "6        6\n",
            "7       28\n",
            "8       45\n",
            "9       12\n",
            "10      15\n",
            "11       9\n",
            "13      13\n",
            "14      55\n",
            "16       1\n"
          ]
        }
      ],
      "source": [
        "import pandas as pd\n",
        "\n",
        "# Sample data\n",
        "sample = {'values': [10, 18, 11, 7, 4, 19, 6, 28, 45, 12, 15, 9, 122, 13, 55, 231, 1, 173]}\n",
        "df = pd.DataFrame(sample)\n",
        "\n",
        "Q1 = df['values'].quantile(0.25)\n",
        "Q3 = df['values'].quantile(0.75)\n",
        "print(\"Q1: \", Q1)\n",
        "print(\"Q3: \", Q3)\n",
        "\n",
        "# Calculate IQR\n",
        "IQR = Q3 - Q1\n",
        "print(\"IQR: \", IQR)\n",
        "\n",
        "lowerBound = Q1 - 1.5 * IQR\n",
        "upperBound = Q3 + 1.5 * IQR\n",
        "print(\"Lower Bound: \", lowerBound)\n",
        "print(\"Upper Bound: \", upperBound)\n",
        "\n",
        "outliers = df[(df['values'] < lowerBound) | (df['values'] > upperBound)]\n",
        "nonOutliers = df[(df['values'] >= lowerBound) & (df['values'] <= upperBound)]\n",
        "\n",
        "print(\"\\n Outliers:\", outliers)\n",
        "print(\"Non Outliers:\", nonOutliers)"
      ]
    },
    {
      "cell_type": "code",
      "source": [
        "import numpy as np\n",
        "\n",
        "sample = {\n",
        "    'age': [15, 13, 20, 22, 54, 45, 67, 4, 17, 31, 72],\n",
        "    'salary': [400, 250, 2000, 1500, 3400, 7400, 3000, 0, 350, 4500, 6000]\n",
        "}\n",
        "\n",
        "df = pd.DataFrame(sample)\n",
        "\n",
        "def outliers(df, col):\n",
        "  Q1 = df[col].quantile(0.25)\n",
        "  Q3 = df[col].quantile(0.75)\n",
        "  IQR = Q3 - Q1\n",
        "\n",
        "  lowerBound = Q1 - 1.5 * IQR\n",
        "  upperBound = Q3 + 1.5 * IQR\n",
        "\n",
        "  outliers = df[(df[col] < lowerBound) | (df[col] > upperBound)]\n",
        "  nonOutliers = df[(df[col] >= lowerBound) & (df[col] <= upperBound)]\n",
        "\n",
        "  return outliers, nonOutliers\n",
        "\n",
        "outliersAge, nonOutliersAge = outliers(df, 'age')\n",
        "outliersSalary, nonOutliersSalary = outliers(df, 'salary')\n",
        "\n",
        "allOutliers = pd.concat([outliersAge, outliersSalary])\n",
        "allNonOutliers = pd.concat([nonOutliersAge, nonOutliersSalary])\n",
        "\n",
        "print(\"Outliers:\", allOutliers)\n",
        "print(\"Non Outliers:\", allNonOutliers)"
      ],
      "metadata": {
        "colab": {
          "base_uri": "https://localhost:8080/"
        },
        "id": "w6_6axrMi0bJ",
        "outputId": "b0d519e4-bfb6-449d-f7f2-543c5642c64d"
      },
      "execution_count": 5,
      "outputs": [
        {
          "output_type": "stream",
          "name": "stdout",
          "text": [
            "Outliers: Empty DataFrame\n",
            "Columns: [age, salary]\n",
            "Index: []\n",
            "Non Outliers:     age  salary\n",
            "0    15     400\n",
            "1    13     250\n",
            "2    20    2000\n",
            "3    22    1500\n",
            "4    54    3400\n",
            "5    45    7400\n",
            "6    67    3000\n",
            "7     4       0\n",
            "8    17     350\n",
            "9    31    4500\n",
            "10   72    6000\n",
            "0    15     400\n",
            "1    13     250\n",
            "2    20    2000\n",
            "3    22    1500\n",
            "4    54    3400\n",
            "5    45    7400\n",
            "6    67    3000\n",
            "7     4       0\n",
            "8    17     350\n",
            "9    31    4500\n",
            "10   72    6000\n"
          ]
        }
      ]
    }
  ]
}