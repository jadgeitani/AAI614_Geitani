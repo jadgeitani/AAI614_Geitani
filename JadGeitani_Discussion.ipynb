{
 "cells": [
  {
   "cell_type": "code",
   "execution_count": null,
   "id": "c5e7151a-5792-40b7-b819-37590dbc43a0",
   "metadata": {},
   "outputs": [],
   "source": [
    "#Alternative to make_pipeline\n",
    "from sklearn.preprocessing import PolynomialFeatures\n",
    "from sklearn.linear_model import LinearRegression\n",
    "\n",
    "def PolynomialRegression(degree=2, **kwargs):\n",
    "    poly = PolynomialFeatures(degree)\n",
    "    linear_model = LinearRegression(**kwargs)\n",
    "    \n",
    "    def fit_transform(X, y):\n",
    "        X_poly = poly.fit_transform(X)\n",
    "        linear_model.fit(X_poly, y)\n",
    "        return linear_model\n",
    "    \n",
    "    def predict(X):\n",
    "        X_poly = poly.transform(X)\n",
    "        return linear_model.predict(X_poly)\n",
    "    \n",
    "    return {\"fit_transform\": fit_transform, \"predict\": predict}\n"
   ]
  },
  {
   "cell_type": "code",
   "execution_count": null,
   "id": "0c4a507b-379b-4916-9c58-b7fbc42db9c9",
   "metadata": {},
   "outputs": [],
   "source": [
    "#Alternative to GridSearch\n",
    "import numpy as np\n",
    "from sklearn.model_selection import KFold\n",
    "from sklearn.metrics import mean_squared_error\n",
    "\n",
    "degrees = np.arange(21)\n",
    "fit_intercepts = [True, False]\n",
    "cv = 7"
   ]
  },
  {
   "cell_type": "code",
   "execution_count": null,
   "id": "50767db4-f267-465b-acf4-beb89c58dd0e",
   "metadata": {},
   "outputs": [],
   "source": [
    "results = []\n",
    "best_score = float('inf')\n",
    "best_params = None\n",
    "best_model = None\n",
    "\n",
    "kf = KFold(n_splits=cv)"
   ]
  },
  {
   "cell_type": "code",
   "execution_count": null,
   "id": "2f8e42db-ad15-4999-b321-e743e9393753",
   "metadata": {},
   "outputs": [],
   "source": [
    "for degree in degrees:\n",
    "    for fit_intercept in fit_intercepts:\n",
    "        scores = []\n",
    "        for train_index, test_index in kf.split(X):\n",
    "            X_train, X_test = X[train_index], X[test_index]\n",
    "            y_train, y_test = y[train_index], y[test_index]\n",
    "\n",
    "            model = PolynomialRegression(degree=degree, fit_intercept=fit_intercept)\n",
    "            model.fit(X_train, y_train)\n",
    "            y_pred = model.predict(X_test)\n",
    "\n",
    "            scores.append(mean_squared_error(y_test, y_pred))\n",
    "\n",
    "        avg_score = np.mean(scores)\n",
    "\n",
    "        if avg_score < best_score:\n",
    "            best_score = avg_score\n",
    "            best_params = {'degree': degree, 'fit_intercept': fit_intercept}\n",
    "            best_model = model\n",
    "\n",
    "        results.append({'params': {'degree': degree, 'fit_intercept': fit_intercept}, 'score': avg_score})\n",
    "\n",
    "print(\"Best parameters:\", best_params)"
   ]
  },
  {
   "cell_type": "code",
   "execution_count": null,
   "id": "99183804-9c44-48d2-b374-f66731bac79c",
   "metadata": {},
   "outputs": [],
   "source": [
    "plt.scatter(X.ravel(), y)\n",
    "lim = plt.axis()\n",
    "y_test = best_model.predict(X_test)\n",
    "plt.plot(X_test.ravel(), y_test)\n",
    "plt.axis(lim)\n",
    "plt.show()"
   ]
  }
 ],
 "metadata": {
  "kernelspec": {
   "display_name": "Python 3 (ipykernel)",
   "language": "python",
   "name": "python3"
  },
  "language_info": {
   "codemirror_mode": {
    "name": "ipython",
    "version": 3
   },
   "file_extension": ".py",
   "mimetype": "text/x-python",
   "name": "python",
   "nbconvert_exporter": "python",
   "pygments_lexer": "ipython3",
   "version": "3.12.5"
  }
 },
 "nbformat": 4,
 "nbformat_minor": 5
}
